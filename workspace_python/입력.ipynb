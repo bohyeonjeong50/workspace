{
 "cells": [
  {
   "cell_type": "code",
   "execution_count": 1,
   "metadata": {},
   "outputs": [
    {
     "name": "stdout",
     "output_type": "stream",
     "text": [
      "입력받은 수는 입니다\n"
     ]
    }
   ],
   "source": [
    "# 키보드로 입력받기\n",
    "# input() 함수 사용으로 키보드로 값을 입력 받을 수 있다.\n",
    "# input() 함수를 사용하여 키보드로 입력받은 값을 문자열로 인식\n",
    "# 문자열 -> 정수 : int()\n",
    "num = input('숫자를 입력하세요 : ')\n",
    "print(f'입력받은 수는 {num}입니다')"
   ]
  },
  {
   "cell_type": "code",
   "execution_count": 3,
   "metadata": {},
   "outputs": [
    {
     "name": "stdout",
     "output_type": "stream",
     "text": [
      "110\n"
     ]
    }
   ],
   "source": [
    "# 문자열을 정수로 변환\n",
    "result1 = int('10')\n",
    "result2 = int('100')\n",
    "print(result1 + result2)"
   ]
  },
  {
   "cell_type": "code",
   "execution_count": 4,
   "metadata": {},
   "outputs": [
    {
     "name": "stdout",
     "output_type": "stream",
     "text": [
      "두 수의 합은 25입니다.\n"
     ]
    }
   ],
   "source": [
    "# 두 정수를 입력받아 두 정수의 합을 출력\n",
    "num1 = int(input('첫번째 수 : '))\n",
    "num2 = int(input('두번째 수 : '))\n",
    "print(f'두 수의 합은 {num1 + num2}입니다.')"
   ]
  },
  {
   "cell_type": "code",
   "execution_count": 1,
   "metadata": {},
   "outputs": [
    {
     "name": "stdout",
     "output_type": "stream",
     "text": [
      "===== 입력받은 학생의 정보는 다음과 같습니다 =====\n",
      "이름 : 홍길동\n",
      "국어 : 80\n",
      "영어 : 90\n",
      "수학 : 80\n",
      "총점 : 250\n",
      "평균 : 83.33333333333333\n"
     ]
    }
   ],
   "source": [
    "# 키보드로 학생의 이름, 국어점수, 영어점수, 수학점수를 입력받아\n",
    "# 입력받은 학생의 이름, 국어점수, 영어점수, 수학점수 및 총점과 평균 출력\n",
    "\n",
    "#입력받기\n",
    "name = input('이름 입력 : ')\n",
    "korScore = int(input('국어점수 : '))\n",
    "engScore = int(input('영어점수 : '))\n",
    "mathScore = int(input('수학점수 : '))\n",
    "\n",
    "# 총점 및 평균\n",
    "totalScore = korScore + engScore + mathScore\n",
    "avg = totalScore / 3\n",
    "\n",
    "# 결과 출력\n",
    "print('===== 입력받은 학생의 정보는 다음과 같습니다 =====')\n",
    "print(f'이름 : {name}')\n",
    "print(f'국어 : {korScore}')\n",
    "print(f'영어 : {engScore}')\n",
    "print(f'수학 : {mathScore}')\n",
    "print(f'총점 : {totalScore}')\n",
    "print(f'평균 : {avg}')\n"
   ]
  },
  {
   "cell_type": "code",
   "execution_count": null,
   "metadata": {},
   "outputs": [],
   "source": []
  },
  {
   "cell_type": "code",
   "execution_count": null,
   "metadata": {},
   "outputs": [],
   "source": []
  },
  {
   "cell_type": "code",
   "execution_count": null,
   "metadata": {},
   "outputs": [],
   "source": []
  },
  {
   "cell_type": "code",
   "execution_count": null,
   "metadata": {},
   "outputs": [],
   "source": []
  },
  {
   "cell_type": "code",
   "execution_count": null,
   "metadata": {},
   "outputs": [],
   "source": []
  }
 ],
 "metadata": {
  "kernelspec": {
   "display_name": "Python 3",
   "language": "python",
   "name": "python3"
  },
  "language_info": {
   "codemirror_mode": {
    "name": "ipython",
    "version": 3
   },
   "file_extension": ".py",
   "mimetype": "text/x-python",
   "name": "python",
   "nbconvert_exporter": "python",
   "pygments_lexer": "ipython3",
   "version": "3.12.5"
  }
 },
 "nbformat": 4,
 "nbformat_minor": 2
}
